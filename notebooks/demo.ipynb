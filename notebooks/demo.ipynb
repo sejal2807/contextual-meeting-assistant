{
  "cells": [
    {
      "cell_type": "markdown",
      "metadata": {},
      "source": [
        "\n"
      ]
    },
    {
      "cell_type": "code",
      "execution_count": null,
      "metadata": {},
      "outputs": [],
      "source": [
        "import sys\n",
        "from pathlib import Path\n",
        "\n",
        "# Add src to path\n",
        "sys.path.append(str(Path.cwd().parent / \"src\"))\n",
        "\n",
        "from pipeline.rag_pipeline import RAGPipeline\n",
        "from config.settings import EMBEDDING_MODEL, SUMMARIZATION_MODEL, QA_MODEL\n",
        "\n",
        "# Sample meeting transcript\n",
        "sample_transcript = \"\"\"\n",
        "John: Good morning everyone, let's start our weekly team meeting.\n",
        "Sarah: Morning John, I have the project updates ready.\n",
        "Mike: I'm here too, ready to discuss the sprint planning.\n",
        "John: Great! Let's begin with Sarah's project status update.\n",
        "Sarah: The frontend development is 80% complete. We need to integrate the API endpoints.\n",
        "Mike: The backend API is ready. I can provide the integration documentation.\n",
        "John: Excellent! Sarah, please coordinate with Mike for the integration.\n",
        "Sarah: Will do. I'll schedule a technical discussion with Mike this week.\n",
        "Mike: Perfect. I'll prepare the API documentation and test cases.\n",
        "John: Now, let's discuss the upcoming deadline. We need to deliver by next Friday.\n",
        "Sarah: That's tight but achievable if we focus on core features.\n",
        "Mike: I agree. We should prioritize the main functionality first.\n",
        "John: Good. Let's create a task list and assign responsibilities.\n",
        "Sarah: I'll handle the UI components and user interface.\n",
        "Mike: I'll focus on the backend services and database optimization.\n",
        "John: I'll coordinate the testing and deployment process.\n",
        "Sarah: Sounds like a plan. When should we have our next check-in?\n",
        "Mike: How about Wednesday for a progress review?\n",
        "John: Wednesday works. Let's meet at 2 PM for the progress review.\n",
        "Sarah: Confirmed. I'll prepare a status report.\n",
        "Mike: I'll have the API integration ready for testing.\n",
        "John: Perfect! Let's wrap up. Any other items to discuss?\n",
        "Sarah: No, I think we covered everything.\n",
        "Mike: All good on my end.\n",
        "John: Great! Meeting adjourned. See you all on Wednesday.\n",
        "\"\"\"\n"
      ]
    }
  ],
  "metadata": {
    "language_info": {
      "name": "python"
    }
  },
  "nbformat": 4,
  "nbformat_minor": 2
}
